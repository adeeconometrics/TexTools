{
  "nbformat": 4,
  "nbformat_minor": 0,
  "metadata": {
    "colab": {
      "name": "TexToolsPrototypes.ipynb",
      "provenance": [],
      "authorship_tag": "ABX9TyM7pcUcADz1hxgMVR1d67X0",
      "include_colab_link": true
    },
    "kernelspec": {
      "name": "python3",
      "display_name": "Python 3"
    },
    "language_info": {
      "name": "python"
    }
  },
  "cells": [
    {
      "cell_type": "markdown",
      "metadata": {
        "id": "view-in-github",
        "colab_type": "text"
      },
      "source": [
        "<a href=\"https://colab.research.google.com/github/adeeconometrics/TexTools/blob/main/TexToolsPrototypes.ipynb\" target=\"_parent\"><img src=\"https://colab.research.google.com/assets/colab-badge.svg\" alt=\"Open In Colab\"/></a>"
      ]
    },
    {
      "cell_type": "code",
      "execution_count": 2,
      "metadata": {
        "id": "K4_s6HaO77KS"
      },
      "outputs": [],
      "source": [
        "from IPython.display import display, Math"
      ]
    },
    {
      "cell_type": "code",
      "source": [
        "from typing import List, Union\n",
        "\n",
        "class Matrix:\n",
        "    __mat:List[List[str]]\n",
        "    __string:str \n",
        "\n",
        "    def __init__(self, element: str,\n",
        "                 row: int, col: int, matrix_type: str = 'bmatrix') -> None:\n",
        "        \n",
        "        if not matrix_type in ['pmatrix', 'bmatrix', 'vmatrix', 'Bmatrix', 'Vmatrix']:\n",
        "            raise ValueError('matrix_type must be a valid LaTeX qualifier.')\n",
        "\n",
        "        self.__mat = [[f\"{element}_{{{i},{j}}}\" for i in range(1, col+1)]\n",
        "                                                for j in range(1, row+1)]\n",
        "\n",
        "        self.__string = ' \\\\\\\\ \\n'.join(f\"\\t {' & '.join(i)}\" for i in self.__mat)\n",
        "        \n",
        "        self.__type:str = matrix_type\n",
        "\n",
        "    def __str__(self) -> str: \n",
        "        return f\"\\\\begin{{{self.__type}}} \\n{self.__string} \\n\\\\end{{{self.__type}}}\"\n",
        "\n",
        "    def __repr__(self) -> str: \n",
        "        return self.__str__()\n",
        "\n",
        "class ConcreteMatrix:\n",
        "    __mat: List[List[str]]\n",
        "    __string: str\n",
        "\n",
        "    def __init__(self, element: List[List[str]],\n",
        "                 row: int, col: int, matrix_type: str = 'bmatrix') -> None:\n",
        "\n",
        "        if not matrix_type in ['pmatrix', 'bmatrix', 'vmatrix', 'Bmatrix', 'Vmatrix']:\n",
        "            raise ValueError('matrix_type must be a valid LaTeX qualifier.')\n",
        "\n",
        "        if not all(len(i) == row for i in element): \n",
        "            raise ValueError(f'size of list of element must be equal to row: {row}')\n",
        "        \n",
        "        if len(element) != col:\n",
        "            raise ValueError(f'size of list of element must be equal to m: {col}')\n",
        "\n",
        "        self.__mat = [[j for j in i] for i in element]\n",
        "\n",
        "        self.__string = ' \\\\\\\\ \\n'.join(\n",
        "            f\"\\t {' & '.join(i)}\" for i in self.__mat)\n",
        "\n",
        "        self.__type: str = matrix_type\n",
        "\n",
        "    def __str__(self) -> str:\n",
        "        return f\"\\\\begin{{{self.__type}}} \\n{self.__string} \\n\\\\end{{{self.__type}}}\"\n",
        "\n",
        "    def __repr__(self) -> str:\n",
        "        return self.__str__()\n",
        "\n",
        "\n",
        "def matrix_factory(entry: List[List[Union[float, int]]], \n",
        "                    row:int, col:int, matrix_type:str = 'bmatrix') -> ConcreteMatrix:\n",
        "    return ConcreteMatrix([[str(i) for i in j] for j in entry], row, col, matrix_type)"
      ],
      "metadata": {
        "id": "B9X2qhmh8GQ9"
      },
      "execution_count": 3,
      "outputs": []
    },
    {
      "cell_type": "code",
      "source": [
        "A = matrix_factory([[*range(10)], [*range(10,20)], [*range(20,30)]],10,3)\n",
        "display(Math(str(A)))"
      ],
      "metadata": {
        "colab": {
          "base_uri": "https://localhost:8080/",
          "height": 78
        },
        "id": "DQ9ZgDGh8Vnd",
        "outputId": "e6b8db44-a1c8-4a4c-dad8-39b5832f46a0"
      },
      "execution_count": 6,
      "outputs": [
        {
          "output_type": "display_data",
          "data": {
            "text/latex": "$$\\begin{bmatrix} \n\t 0 & 1 & 2 & 3 & 4 & 5 & 6 & 7 & 8 & 9 \\\\ \n\t 10 & 11 & 12 & 13 & 14 & 15 & 16 & 17 & 18 & 19 \\\\ \n\t 20 & 21 & 22 & 23 & 24 & 25 & 26 & 27 & 28 & 29 \n\\end{bmatrix}$$",
            "text/plain": [
              "<IPython.core.display.Math object>"
            ]
          },
          "metadata": {}
        }
      ]
    }
  ]
}